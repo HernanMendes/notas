{
 "cells": [
  {
   "cell_type": "markdown",
   "metadata": {},
   "source": [
    "# Notas Gregario"
   ]
  },
  {
   "cell_type": "markdown",
   "metadata": {},
   "source": [
    "3/8/2022"
   ]
  },
  {
   "cell_type": "markdown",
   "metadata": {},
   "source": [
    "Servicio de Gregario: potenciar a nuestros clientes, darles valor a sus datos\n",
    "\n",
    "Django, scrapy\n",
    "celery, redis, postgres\n",
    "No todo puede ser asincrono (memoria compartida)\n",
    "REDIS: TRABAJA SOBRE MEMORIA muy rapida, pero no se pueden tener tantos datos (para asincrono)\n",
    "Containers: postgres_default,redis, serverapp,worker_scrapy y flower\n",
    "flower: dashboard de tareas de celery"
   ]
  },
  {
   "cell_type": "markdown",
   "metadata": {},
   "source": [
    "<br><br><br>"
   ]
  },
  {
   "cell_type": "markdown",
   "metadata": {},
   "source": [
    "## Scraping\n",
    "\n",
    "**DATOS IMPORTANTES:**\n",
    "1. nombre del producto\n",
    "2. precio (cualquiera)\n",
    "3. imagen del producto\n",
    "4. SKU/EAN o cualquier identificador único\n",
    "\n",
    "\n",
    "booleano con xpath\n",
    "breadcrumbs (list)\n",
    "proxysettings, brightdata\n",
    "cual es el id? de la ulr?\n",
    "cada cuanto?\n",
    "paginado\n",
    "django manage.py\n",
    "controlador de versiones de bases de datos (migrations)\n"
   ]
  },
  {
   "cell_type": "markdown",
   "metadata": {},
   "source": [
    "<br><br><br>"
   ]
  },
  {
   "cell_type": "markdown",
   "metadata": {},
   "source": [
    "4/8/2022"
   ]
  },
  {
   "cell_type": "markdown",
   "metadata": {},
   "source": [
    "# Levantar ambiente\n",
    "## Revisar puertos usados\n",
    "\n",
    "```bash\n",
    "    sudo ss -ltnp\n",
    "    sudo kill $(sudo lsof -t -i:5432)\n",
    "``` \n",
    "\n",
    "## Containers\n",
    "\n",
    "```bash\n",
    "    docker-compose -f docker-compose.dev.yml up -d postgres_default redis_broker redis_cache\n",
    "    \n",
    "    docker-compose -f docker-compose.dev.yml ps\n",
    "    \n",
    "    docker-compose -f docker-compose.dev.yml up -d serverapp\n",
    "    docker-compose -f docker-compose.dev.yml  stop serverapp\n",
    "    docker-compose -f docker-compose.dev.yml up -d serverapp\n",
    "```\n",
    "\n",
    "## Run server\n",
    "\n",
    "```bash\n",
    "    docker-compose -f docker-compose.dev.yml exec serverapp bash -c \"su - django\"\n",
    "    \n",
    "    cd /srv/django\n",
    "    python manage.py runserver\n",
    "```\n",
    "\n",
    "## Worker scrapy\n",
    "\n",
    "```bash\n",
    "    docker-compose -f docker-compose.dev.yml up -d worker_scrapy\n",
    "```\n",
    "\n",
    "## Log\n",
    "\n",
    "```bash\n",
    "    docker-compose -f docker-compose.dev.yml logs -tf --tail 111  worker_scrapy\n",
    "```\n"
   ]
  },
  {
   "cell_type": "markdown",
   "metadata": {},
   "source": [
    "<br><br><br>"
   ]
  },
  {
   "cell_type": "markdown",
   "metadata": {},
   "source": [
    "# Use docker without 'sudo'\n",
    "\n",
    "To create the docker group and add your user:\n",
    "1. Create the docker group.\n",
    "    \n",
    "    ```\n",
    "        $  sudo groupadd docker\n",
    "    ```\n",
    "\n",
    "2. Add your user to the docker group.\n",
    "    \n",
    "    ```\n",
    "        $  sudo usermod -aG docker $USER\n",
    "    ```\n",
    "\n",
    "3. Activate the changes to groups.\n",
    "\n",
    "    ```\n",
    "        $  newgrp docker \n",
    "    ```\n",
    "\n",
    "4. Verify that you can run docker commands without sudo.\n",
    "\n",
    "    ```\n",
    "        $  docker run hello-world \n",
    "    ```"
   ]
  },
  {
   "cell_type": "markdown",
   "metadata": {},
   "source": [
    "<br><br><br>"
   ]
  },
  {
   "cell_type": "markdown",
   "metadata": {},
   "source": [
    "Ip de produccion: http://159.65.33.88:8000/admin/"
   ]
  },
  {
   "cell_type": "markdown",
   "metadata": {},
   "source": [
    "## Utils\n",
    "\n",
    "```\n",
    "    python manage.py shell\n",
    "    from wines.utils import *\n",
    "    get_page(url)\n",
    "    test_xpath(xpath)\n",
    "```"
   ]
  },
  {
   "cell_type": "markdown",
   "metadata": {},
   "source": [
    "```\n",
    "    funcion xpath translate\n",
    "```"
   ]
  },
  {
   "cell_type": "markdown",
   "metadata": {},
   "source": []
  },
  {
   "cell_type": "markdown",
   "metadata": {},
   "source": [
    "## Nueva ARQUITECTURA"
   ]
  },
  {
   "cell_type": "markdown",
   "metadata": {},
   "source": [
    "Etapas\n",
    "1. fetch (solicitar la info a la pagina) **NEW FILW FOR EACH CONTENT PAGE**\n",
    "2. parsear la info (dar molde/formato a la info) **NEW FILW FOR EACH CONTENT PAGE**\n",
    "3. guardar la info (persistance.py(DB) y storage.py(JSON))\n",
    "\n",
    "task.py coordinar los 4 archivos\n"
   ]
  },
  {
   "cell_type": "markdown",
   "metadata": {},
   "source": [
    "Como??"
   ]
  },
  {
   "cell_type": "markdown",
   "metadata": {},
   "source": [
    "Primero ver si usa API, NETWORK Fetch"
   ]
  },
  {
   "cell_type": "markdown",
   "metadata": {},
   "source": [
    "en preview veo si es la api que necesitamos"
   ]
  },
  {
   "cell_type": "markdown",
   "metadata": {},
   "source": [
    "en header copiamos la requests y lo probamos en **POSTMAN**"
   ]
  },
  {
   "cell_type": "markdown",
   "metadata": {},
   "source": [
    "REVISAR TIPO DE LLAMADO: GET/POST"
   ]
  },
  {
   "cell_type": "markdown",
   "metadata": {},
   "source": [
    "revisar que headers necesita"
   ]
  },
  {
   "cell_type": "markdown",
   "metadata": {},
   "source": [
    "canonical_url??"
   ]
  },
  {
   "cell_type": "markdown",
   "metadata": {},
   "source": [
    "Probar en postman, nos copiamos el código de python, lo testeamos en Spyder"
   ]
  },
  {
   "cell_type": "markdown",
   "metadata": {},
   "source": [
    "Patron de diseño FACTORY"
   ]
  },
  {
   "cell_type": "markdown",
   "metadata": {},
   "source": [
    "doble parentesis de llave"
   ]
  },
  {
   "cell_type": "markdown",
   "metadata": {},
   "source": [
    "### Test"
   ]
  },
  {
   "cell_type": "markdown",
   "metadata": {},
   "source": [
    "```bash\n",
    "python manage.py shell\n",
    "```\n",
    "```python\n",
    "from wines.tasks import kickpff_scraping_wines_data as kick\n",
    "kick.delay()\n",
    "```"
   ]
  },
  {
   "cell_type": "markdown",
   "metadata": {},
   "source": [
    "```bash\n",
    "    docker-compose -f docker-compose.dev.yml logs -tf --tail 111  worker_scrapy\n",
    "```"
   ]
  },
  {
   "cell_type": "markdown",
   "metadata": {},
   "source": [
    "revisar con flower"
   ]
  },
  {
   "cell_type": "markdown",
   "metadata": {},
   "source": [
    "### Process new ratailer"
   ]
  },
  {
   "cell_type": "markdown",
   "metadata": {},
   "source": [
    "1. Crear en Jira "
   ]
  },
  {
   "cell_type": "markdown",
   "metadata": {},
   "source": [
    "2. New branch en git"
   ]
  },
  {
   "cell_type": "markdown",
   "metadata": {},
   "source": [
    "branch name: SCRAP-XXX_RetailerName"
   ]
  },
  {
   "cell_type": "markdown",
   "metadata": {},
   "source": [
    "Me traigo todo lo que esté en produccion\n",
    "```\n",
    "git checkout staging\n",
    "git pull\n",
    "```\n"
   ]
  },
  {
   "cell_type": "markdown",
   "metadata": {},
   "source": [
    "Crear nueva rama\n",
    "```\n",
    "git checkout -b SCRAP-XXX_RetailerName\n",
    "```"
   ]
  },
  {
   "cell_type": "markdown",
   "metadata": {},
   "source": [
    "Una vez terminado\n",
    "```\n",
    "git push\n",
    "```"
   ]
  },
  {
   "cell_type": "markdown",
   "metadata": {},
   "source": [
    "git stash ?"
   ]
  },
  {
   "cell_type": "markdown",
   "metadata": {},
   "source": [
    "decorador @classmethod"
   ]
  },
  {
   "cell_type": "markdown",
   "metadata": {},
   "source": [
    "fetcher objeto\n",
    "\n",
    "parser class (gastan menos memoria)"
   ]
  },
  {
   "cell_type": "markdown",
   "metadata": {},
   "source": []
  },
  {
   "cell_type": "markdown",
   "metadata": {},
   "source": [
    "{{}}"
   ]
  },
  {
   "cell_type": "markdown",
   "metadata": {},
   "source": [
    "carulla captura JSON"
   ]
  },
  {
   "cell_type": "markdown",
   "metadata": {},
   "source": [
    "POST, una de las llamadas va a decir payload/carga util. jumbo_com"
   ]
  },
  {
   "cell_type": "markdown",
   "metadata": {},
   "source": [
    "el objetivo final es sacar 1 al día con nueva arquitectura\n",
    "\n",
    "con xpath varios"
   ]
  },
  {
   "cell_type": "markdown",
   "metadata": {},
   "source": [
    "si subimos xpath/nueva arq al otro día revisar"
   ]
  },
  {
   "cell_type": "markdown",
   "metadata": {},
   "source": [
    "desafio: como para la api? vacía? o no trae más la clave 'items' o etc?"
   ]
  },
  {
   "cell_type": "markdown",
   "metadata": {},
   "source": [
    "el primer retailer busquemos una api que sea sencilla"
   ]
  },
  {
   "cell_type": "markdown",
   "metadata": {},
   "source": []
  }
 ],
 "metadata": {
  "kernelspec": {
   "display_name": "Python 3.9.5 64-bit",
   "language": "python",
   "name": "python3"
  },
  "language_info": {
   "name": "python",
   "version": "3.9.5"
  },
  "orig_nbformat": 4,
  "vscode": {
   "interpreter": {
    "hash": "f9f85f796d01129d0dd105a088854619f454435301f6ffec2fea96ecbd9be4ac"
   }
  }
 },
 "nbformat": 4,
 "nbformat_minor": 2
}
